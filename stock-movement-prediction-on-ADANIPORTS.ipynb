{
 "cells": [
  {
   "cell_type": "code",
   "execution_count": 4,
   "metadata": {},
   "outputs": [],
   "source": [
    "import pandas as pd\n",
    "import numpy as np"
   ]
  },
  {
   "cell_type": "markdown",
   "metadata": {},
   "source": [
    "# Stock market prediction on ADANIPORTS\n",
    "## using LSTM"
   ]
  },
  {
   "cell_type": "code",
   "execution_count": 5,
   "metadata": {},
   "outputs": [
    {
     "data": {
      "text/html": [
       "<div>\n",
       "<style scoped>\n",
       "    .dataframe tbody tr th:only-of-type {\n",
       "        vertical-align: middle;\n",
       "    }\n",
       "\n",
       "    .dataframe tbody tr th {\n",
       "        vertical-align: top;\n",
       "    }\n",
       "\n",
       "    .dataframe thead th {\n",
       "        text-align: right;\n",
       "    }\n",
       "</style>\n",
       "<table border=\"1\" class=\"dataframe\">\n",
       "  <thead>\n",
       "    <tr style=\"text-align: right;\">\n",
       "      <th></th>\n",
       "      <th>Symbol</th>\n",
       "      <th>Series</th>\n",
       "      <th>Prev Close</th>\n",
       "      <th>Open</th>\n",
       "      <th>High</th>\n",
       "      <th>Low</th>\n",
       "      <th>Last</th>\n",
       "      <th>Close</th>\n",
       "      <th>VWAP</th>\n",
       "      <th>Volume</th>\n",
       "      <th>Turnover</th>\n",
       "      <th>Trades</th>\n",
       "      <th>Deliverable Volume</th>\n",
       "      <th>%Deliverble</th>\n",
       "    </tr>\n",
       "    <tr>\n",
       "      <th>Date</th>\n",
       "      <th></th>\n",
       "      <th></th>\n",
       "      <th></th>\n",
       "      <th></th>\n",
       "      <th></th>\n",
       "      <th></th>\n",
       "      <th></th>\n",
       "      <th></th>\n",
       "      <th></th>\n",
       "      <th></th>\n",
       "      <th></th>\n",
       "      <th></th>\n",
       "      <th></th>\n",
       "      <th></th>\n",
       "    </tr>\n",
       "  </thead>\n",
       "  <tbody>\n",
       "    <tr>\n",
       "      <th>2007-11-27</th>\n",
       "      <td>MUNDRAPORT</td>\n",
       "      <td>EQ</td>\n",
       "      <td>440.00</td>\n",
       "      <td>770.00</td>\n",
       "      <td>1050.00</td>\n",
       "      <td>770.0</td>\n",
       "      <td>959.0</td>\n",
       "      <td>962.90</td>\n",
       "      <td>984.72</td>\n",
       "      <td>27294366</td>\n",
       "      <td>2.687719e+15</td>\n",
       "      <td>NaN</td>\n",
       "      <td>9859619</td>\n",
       "      <td>0.3612</td>\n",
       "    </tr>\n",
       "    <tr>\n",
       "      <th>2007-11-28</th>\n",
       "      <td>MUNDRAPORT</td>\n",
       "      <td>EQ</td>\n",
       "      <td>962.90</td>\n",
       "      <td>984.00</td>\n",
       "      <td>990.00</td>\n",
       "      <td>874.0</td>\n",
       "      <td>885.0</td>\n",
       "      <td>893.90</td>\n",
       "      <td>941.38</td>\n",
       "      <td>4581338</td>\n",
       "      <td>4.312765e+14</td>\n",
       "      <td>NaN</td>\n",
       "      <td>1453278</td>\n",
       "      <td>0.3172</td>\n",
       "    </tr>\n",
       "    <tr>\n",
       "      <th>2007-11-29</th>\n",
       "      <td>MUNDRAPORT</td>\n",
       "      <td>EQ</td>\n",
       "      <td>893.90</td>\n",
       "      <td>909.00</td>\n",
       "      <td>914.75</td>\n",
       "      <td>841.0</td>\n",
       "      <td>887.0</td>\n",
       "      <td>884.20</td>\n",
       "      <td>888.09</td>\n",
       "      <td>5124121</td>\n",
       "      <td>4.550658e+14</td>\n",
       "      <td>NaN</td>\n",
       "      <td>1069678</td>\n",
       "      <td>0.2088</td>\n",
       "    </tr>\n",
       "    <tr>\n",
       "      <th>2007-11-30</th>\n",
       "      <td>MUNDRAPORT</td>\n",
       "      <td>EQ</td>\n",
       "      <td>884.20</td>\n",
       "      <td>890.00</td>\n",
       "      <td>958.00</td>\n",
       "      <td>890.0</td>\n",
       "      <td>929.0</td>\n",
       "      <td>921.55</td>\n",
       "      <td>929.17</td>\n",
       "      <td>4609762</td>\n",
       "      <td>4.283257e+14</td>\n",
       "      <td>NaN</td>\n",
       "      <td>1260913</td>\n",
       "      <td>0.2735</td>\n",
       "    </tr>\n",
       "    <tr>\n",
       "      <th>2007-12-03</th>\n",
       "      <td>MUNDRAPORT</td>\n",
       "      <td>EQ</td>\n",
       "      <td>921.55</td>\n",
       "      <td>939.75</td>\n",
       "      <td>995.00</td>\n",
       "      <td>922.0</td>\n",
       "      <td>980.0</td>\n",
       "      <td>969.30</td>\n",
       "      <td>965.65</td>\n",
       "      <td>2977470</td>\n",
       "      <td>2.875200e+14</td>\n",
       "      <td>NaN</td>\n",
       "      <td>816123</td>\n",
       "      <td>0.2741</td>\n",
       "    </tr>\n",
       "  </tbody>\n",
       "</table>\n",
       "</div>"
      ],
      "text/plain": [
       "                Symbol Series  Prev Close    Open     High    Low   Last  \\\n",
       "Date                                                                       \n",
       "2007-11-27  MUNDRAPORT     EQ      440.00  770.00  1050.00  770.0  959.0   \n",
       "2007-11-28  MUNDRAPORT     EQ      962.90  984.00   990.00  874.0  885.0   \n",
       "2007-11-29  MUNDRAPORT     EQ      893.90  909.00   914.75  841.0  887.0   \n",
       "2007-11-30  MUNDRAPORT     EQ      884.20  890.00   958.00  890.0  929.0   \n",
       "2007-12-03  MUNDRAPORT     EQ      921.55  939.75   995.00  922.0  980.0   \n",
       "\n",
       "             Close    VWAP    Volume      Turnover  Trades  \\\n",
       "Date                                                         \n",
       "2007-11-27  962.90  984.72  27294366  2.687719e+15     NaN   \n",
       "2007-11-28  893.90  941.38   4581338  4.312765e+14     NaN   \n",
       "2007-11-29  884.20  888.09   5124121  4.550658e+14     NaN   \n",
       "2007-11-30  921.55  929.17   4609762  4.283257e+14     NaN   \n",
       "2007-12-03  969.30  965.65   2977470  2.875200e+14     NaN   \n",
       "\n",
       "            Deliverable Volume  %Deliverble  \n",
       "Date                                         \n",
       "2007-11-27             9859619       0.3612  \n",
       "2007-11-28             1453278       0.3172  \n",
       "2007-11-29             1069678       0.2088  \n",
       "2007-11-30             1260913       0.2735  \n",
       "2007-12-03              816123       0.2741  "
      ]
     },
     "execution_count": 5,
     "metadata": {},
     "output_type": "execute_result"
    }
   ],
   "source": [
    "path = r\"C:\\Users\\Dell\\Downloads\\ADANIPORTS.csv\"\n",
    "df=pd.read_csv(path,na_values=['null'],index_col='Date',parse_dates=True,infer_datetime_format=True)\n",
    "df.head()"
   ]
  },
  {
   "cell_type": "code",
   "execution_count": 6,
   "metadata": {
    "execution": {
     "iopub.execute_input": "2022-04-05T04:53:59.087057Z",
     "iopub.status.busy": "2022-04-05T04:53:59.086372Z",
     "iopub.status.idle": "2022-04-05T04:53:59.391581Z",
     "shell.execute_reply": "2022-04-05T04:53:59.390627Z",
     "shell.execute_reply.started": "2022-04-05T04:53:59.087015Z"
    }
   },
   "outputs": [
    {
     "data": {
      "text/plain": [
       "<AxesSubplot:xlabel='Date'>"
      ]
     },
     "execution_count": 6,
     "metadata": {},
     "output_type": "execute_result"
    },
    {
     "data": {
      "image/png": "[encoded data removed]",
      "text/plain": [
       "<Figure size 432x288 with 1 Axes>"
      ]
     },
     "metadata": {
      "needs_background": "light"
     },
     "output_type": "display_data"
    }
   ],
   "source": [
    "df['VWAP'].plot()"
   ]
  },
  {
   "cell_type": "markdown",
   "metadata": {},
   "source": [
    "Setting variables & features"
   ]
  },
  {
   "cell_type": "code",
   "execution_count": 7,
   "metadata": {
    "execution": {
     "iopub.execute_input": "2022-04-05T04:54:21.837154Z",
     "iopub.status.busy": "2022-04-05T04:54:21.836254Z",
     "iopub.status.idle": "2022-04-05T04:54:21.843571Z",
     "shell.execute_reply": "2022-04-05T04:54:21.842569Z",
     "shell.execute_reply.started": "2022-04-05T04:54:21.837089Z"
    }
   },
   "outputs": [],
   "source": [
    "#Setting Variable\n",
    "output_var = pd.DataFrame(df['VWAP'])\n",
    "#Features\n",
    "features = ['Open', 'High', 'Low', 'Volume']"
   ]
  },
  {
   "cell_type": "markdown",
   "metadata": {},
   "source": [
    "Scaling"
   ]
  },
  {
   "cell_type": "code",
   "execution_count": 8,
   "metadata": {
    "execution": {
     "iopub.execute_input": "2022-04-05T04:55:40.404661Z",
     "iopub.status.busy": "2022-04-05T04:55:40.404314Z",
     "iopub.status.idle": "2022-04-05T04:55:41.418121Z",
     "shell.execute_reply": "2022-04-05T04:55:41.416983Z",
     "shell.execute_reply.started": "2022-04-05T04:55:40.404624Z"
    }
   },
   "outputs": [
    {
     "data": {
      "text/html": [
       "<div>\n",
       "<style scoped>\n",
       "    .dataframe tbody tr th:only-of-type {\n",
       "        vertical-align: middle;\n",
       "    }\n",
       "\n",
       "    .dataframe tbody tr th {\n",
       "        vertical-align: top;\n",
       "    }\n",
       "\n",
       "    .dataframe thead th {\n",
       "        text-align: right;\n",
       "    }\n",
       "</style>\n",
       "<table border=\"1\" class=\"dataframe\">\n",
       "  <thead>\n",
       "    <tr style=\"text-align: right;\">\n",
       "      <th></th>\n",
       "      <th>Open</th>\n",
       "      <th>High</th>\n",
       "      <th>Low</th>\n",
       "      <th>Volume</th>\n",
       "    </tr>\n",
       "    <tr>\n",
       "      <th>Date</th>\n",
       "      <th></th>\n",
       "      <th></th>\n",
       "      <th></th>\n",
       "      <th></th>\n",
       "    </tr>\n",
       "  </thead>\n",
       "  <tbody>\n",
       "    <tr>\n",
       "      <th>2007-11-27</th>\n",
       "      <td>0.550634</td>\n",
       "      <td>0.774216</td>\n",
       "      <td>0.570576</td>\n",
       "      <td>0.279227</td>\n",
       "    </tr>\n",
       "    <tr>\n",
       "      <th>2007-11-28</th>\n",
       "      <td>0.728634</td>\n",
       "      <td>0.724774</td>\n",
       "      <td>0.659896</td>\n",
       "      <td>0.046763</td>\n",
       "    </tr>\n",
       "    <tr>\n",
       "      <th>2007-11-29</th>\n",
       "      <td>0.666251</td>\n",
       "      <td>0.662766</td>\n",
       "      <td>0.631554</td>\n",
       "      <td>0.052318</td>\n",
       "    </tr>\n",
       "    <tr>\n",
       "      <th>2007-11-30</th>\n",
       "      <td>0.650447</td>\n",
       "      <td>0.698406</td>\n",
       "      <td>0.673638</td>\n",
       "      <td>0.047054</td>\n",
       "    </tr>\n",
       "    <tr>\n",
       "      <th>2007-12-03</th>\n",
       "      <td>0.691828</td>\n",
       "      <td>0.728895</td>\n",
       "      <td>0.701121</td>\n",
       "      <td>0.030347</td>\n",
       "    </tr>\n",
       "  </tbody>\n",
       "</table>\n",
       "</div>"
      ],
      "text/plain": [
       "                Open      High       Low    Volume\n",
       "Date                                              \n",
       "2007-11-27  0.550634  0.774216  0.570576  0.279227\n",
       "2007-11-28  0.728634  0.724774  0.659896  0.046763\n",
       "2007-11-29  0.666251  0.662766  0.631554  0.052318\n",
       "2007-11-30  0.650447  0.698406  0.673638  0.047054\n",
       "2007-12-03  0.691828  0.728895  0.701121  0.030347"
      ]
     },
     "execution_count": 8,
     "metadata": {},
     "output_type": "execute_result"
    }
   ],
   "source": [
    "from sklearn.preprocessing import MinMaxScaler\n",
    "scaler = MinMaxScaler()\n",
    "feature_transform = scaler.fit_transform(df[features])\n",
    "feature_transform= pd.DataFrame(columns=features, data=feature_transform, index=df.index)\n",
    "feature_transform.head()"
   ]
  },
  {
   "cell_type": "code",
   "execution_count": 9,
   "metadata": {
    "execution": {
     "iopub.execute_input": "2022-04-05T04:58:51.544115Z",
     "iopub.status.busy": "2022-04-05T04:58:51.543832Z",
     "iopub.status.idle": "2022-04-05T04:58:51.551480Z",
     "shell.execute_reply": "2022-04-05T04:58:51.550711Z",
     "shell.execute_reply.started": "2022-04-05T04:58:51.544087Z"
    }
   },
   "outputs": [
    {
     "data": {
      "text/plain": [
       "(3322, 4)"
      ]
     },
     "execution_count": 9,
     "metadata": {},
     "output_type": "execute_result"
    }
   ],
   "source": [
    "feature_transform.shape"
   ]
  },
  {
   "cell_type": "code",
   "execution_count": 10,
   "metadata": {
    "execution": {
     "iopub.execute_input": "2022-04-05T04:59:41.052998Z",
     "iopub.status.busy": "2022-04-05T04:59:41.051381Z",
     "iopub.status.idle": "2022-04-05T04:59:41.122691Z",
     "shell.execute_reply": "2022-04-05T04:59:41.121913Z",
     "shell.execute_reply.started": "2022-04-05T04:59:41.052940Z"
    }
   },
   "outputs": [],
   "source": [
    "from sklearn.model_selection import TimeSeriesSplit\n",
    "timesplit= TimeSeriesSplit(n_splits=11)\n",
    "for train_index, test_index in timesplit.split(feature_transform):\n",
    "        X_train, X_test = feature_transform[:len(train_index)], feature_transform[len(train_index): (len(train_index)+len(test_index))]\n",
    "        y_train, y_test = output_var[:len(train_index)].values.ravel(), output_var[len(train_index): (len(train_index)+len(test_index))].values.ravel()"
   ]
  },
  {
   "cell_type": "code",
   "execution_count": 11,
   "metadata": {
    "execution": {
     "iopub.execute_input": "2022-04-05T04:59:59.774349Z",
     "iopub.status.busy": "2022-04-05T04:59:59.773864Z",
     "iopub.status.idle": "2022-04-05T04:59:59.779133Z",
     "shell.execute_reply": "2022-04-05T04:59:59.778323Z",
     "shell.execute_reply.started": "2022-04-05T04:59:59.774300Z"
    }
   },
   "outputs": [
    {
     "name": "stdout",
     "output_type": "stream",
     "text": [
      "(3046, 4)\n",
      "(276, 4)\n"
     ]
    }
   ],
   "source": [
    "print(X_train.shape)\n",
    "print(X_test.shape)"
   ]
  },
  {
   "cell_type": "markdown",
   "metadata": {},
   "source": [
    "Data Processing For LSTM"
   ]
  },
  {
   "cell_type": "code",
   "execution_count": 12,
   "metadata": {
    "execution": {
     "iopub.execute_input": "2022-04-05T05:02:32.997391Z",
     "iopub.status.busy": "2022-04-05T05:02:32.997125Z",
     "iopub.status.idle": "2022-04-05T05:02:33.004514Z",
     "shell.execute_reply": "2022-04-05T05:02:33.003585Z",
     "shell.execute_reply.started": "2022-04-05T05:02:32.997365Z"
    }
   },
   "outputs": [
    {
     "name": "stdout",
     "output_type": "stream",
     "text": [
      "(3046, 1, 4)\n",
      "(276, 1, 4)\n"
     ]
    }
   ],
   "source": [
    "#Processing data\n",
    "trainX =np.array(X_train)\n",
    "testX =np.array(X_test)\n",
    "X_train = trainX.reshape(X_train.shape[0], 1, X_train.shape[1])\n",
    "X_test = testX.reshape(X_test.shape[0], 1, X_test.shape[1])\n",
    "print(X_train.shape)\n",
    "print(X_test.shape)"
   ]
  },
  {
   "cell_type": "markdown",
   "metadata": {},
   "source": [
    "Building the LSTM Model "
   ]
  },
  {
   "cell_type": "code",
   "execution_count": 13,
   "metadata": {},
   "outputs": [
    {
     "name": "stdout",
     "output_type": "stream",
     "text": [
      "Requirement already satisfied: tensorflow in c:\\users\\dell\\anaconda3\\lib\\site-packages (2.9.1)\n",
      "Requirement already satisfied: grpcio<2.0,>=1.24.3 in c:\\users\\dell\\anaconda3\\lib\\site-packages (from tensorflow) (1.46.3)\n",
      "Requirement already satisfied: tensorflow-io-gcs-filesystem>=0.23.1 in c:\\users\\dell\\anaconda3\\lib\\site-packages (from tensorflow) (0.26.0)\n",
      "Requirement already satisfied: libclang>=13.0.0 in c:\\users\\dell\\anaconda3\\lib\\site-packages (from tensorflow) (14.0.1)\n",
      "Requirement already satisfied: setuptools in c:\\users\\dell\\anaconda3\\lib\\site-packages (from tensorflow) (58.0.4)\n",
      "Requirement already satisfied: wrapt>=1.11.0 in c:\\users\\dell\\anaconda3\\lib\\site-packages (from tensorflow) (1.12.1)\n",
      "Requirement already satisfied: h5py>=2.9.0 in c:\\users\\dell\\anaconda3\\lib\\site-packages (from tensorflow) (3.2.1)\n",
      "Requirement already satisfied: tensorflow-estimator<2.10.0,>=2.9.0rc0 in c:\\users\\dell\\anaconda3\\lib\\site-packages (from tensorflow) (2.9.0)\n",
      "Requirement already satisfied: protobuf<3.20,>=3.9.2 in c:\\users\\dell\\anaconda3\\lib\\site-packages (from tensorflow) (3.19.4)\n",
      "Requirement already satisfied: opt-einsum>=2.3.2 in c:\\users\\dell\\anaconda3\\lib\\site-packages (from tensorflow) (3.3.0)\n",
      "Requirement already satisfied: tensorboard<2.10,>=2.9 in c:\\users\\dell\\anaconda3\\lib\\site-packages (from tensorflow) (2.9.0)\n",
      "Requirement already satisfied: absl-py>=1.0.0 in c:\\users\\dell\\anaconda3\\lib\\site-packages (from tensorflow) (1.1.0)\n",
      "Requirement already satisfied: google-pasta>=0.1.1 in c:\\users\\dell\\anaconda3\\lib\\site-packages (from tensorflow) (0.2.0)\n",
      "Requirement already satisfied: termcolor>=1.1.0 in c:\\users\\dell\\anaconda3\\lib\\site-packages (from tensorflow) (1.1.0)\n",
      "Requirement already satisfied: gast<=0.4.0,>=0.2.1 in c:\\users\\dell\\anaconda3\\lib\\site-packages (from tensorflow) (0.4.0)\n",
      "Requirement already satisfied: keras-preprocessing>=1.1.1 in c:\\users\\dell\\anaconda3\\lib\\site-packages (from tensorflow) (1.1.2)\n",
      "Requirement already satisfied: astunparse>=1.6.0 in c:\\users\\dell\\anaconda3\\lib\\site-packages (from tensorflow) (1.6.3)\n",
      "Requirement already satisfied: six>=1.12.0 in c:\\users\\dell\\anaconda3\\lib\\site-packages (from tensorflow) (1.16.0)\n",
      "Requirement already satisfied: packaging in c:\\users\\dell\\anaconda3\\lib\\site-packages (from tensorflow) (21.0)\n",
      "Requirement already satisfied: typing-extensions>=3.6.6 in c:\\users\\dell\\anaconda3\\lib\\site-packages (from tensorflow) (3.10.0.2)\n",
      "Requirement already satisfied: flatbuffers<2,>=1.12 in c:\\users\\dell\\anaconda3\\lib\\site-packages (from tensorflow) (1.12)\n",
      "Requirement already satisfied: keras<2.10.0,>=2.9.0rc0 in c:\\users\\dell\\anaconda3\\lib\\site-packages (from tensorflow) (2.9.0)\n",
      "Requirement already satisfied: numpy>=1.20 in c:\\users\\dell\\anaconda3\\lib\\site-packages (from tensorflow) (1.20.3)\n",
      "Requirement already satisfied: wheel<1.0,>=0.23.0 in c:\\users\\dell\\anaconda3\\lib\\site-packages (from astunparse>=1.6.0->tensorflow) (0.37.0)\n",
      "Requirement already satisfied: requests<3,>=2.21.0 in c:\\users\\dell\\anaconda3\\lib\\site-packages (from tensorboard<2.10,>=2.9->tensorflow) (2.26.0)\n",
      "Requirement already satisfied: tensorboard-plugin-wit>=1.6.0 in c:\\users\\dell\\anaconda3\\lib\\site-packages (from tensorboard<2.10,>=2.9->tensorflow) (1.8.1)\n",
      "Requirement already satisfied: tensorboard-data-server<0.7.0,>=0.6.0 in c:\\users\\dell\\anaconda3\\lib\\site-packages (from tensorboard<2.10,>=2.9->tensorflow) (0.6.1)\n",
      "Requirement already satisfied: markdown>=2.6.8 in c:\\users\\dell\\anaconda3\\lib\\site-packages (from tensorboard<2.10,>=2.9->tensorflow) (3.3.7)\n",
      "Requirement already satisfied: werkzeug>=1.0.1 in c:\\users\\dell\\anaconda3\\lib\\site-packages (from tensorboard<2.10,>=2.9->tensorflow) (2.0.2)\n",
      "Requirement already satisfied: google-auth-oauthlib<0.5,>=0.4.1 in c:\\users\\dell\\anaconda3\\lib\\site-packages (from tensorboard<2.10,>=2.9->tensorflow) (0.4.6)\n",
      "Requirement already satisfied: google-auth<3,>=1.6.3 in c:\\users\\dell\\anaconda3\\lib\\site-packages (from tensorboard<2.10,>=2.9->tensorflow) (2.6.6)\n",
      "Requirement already satisfied: cachetools<6.0,>=2.0.0 in c:\\users\\dell\\anaconda3\\lib\\site-packages (from google-auth<3,>=1.6.3->tensorboard<2.10,>=2.9->tensorflow) (5.2.0)\n",
      "Requirement already satisfied: pyasn1-modules>=0.2.1 in c:\\users\\dell\\anaconda3\\lib\\site-packages (from google-auth<3,>=1.6.3->tensorboard<2.10,>=2.9->tensorflow) (0.2.8)\n",
      "Requirement already satisfied: rsa<5,>=3.1.4 in c:\\users\\dell\\anaconda3\\lib\\site-packages (from google-auth<3,>=1.6.3->tensorboard<2.10,>=2.9->tensorflow) (4.8)\n",
      "Requirement already satisfied: requests-oauthlib>=0.7.0 in c:\\users\\dell\\anaconda3\\lib\\site-packages (from google-auth-oauthlib<0.5,>=0.4.1->tensorboard<2.10,>=2.9->tensorflow) (1.3.1)\n",
      "Requirement already satisfied: importlib-metadata>=4.4 in c:\\users\\dell\\anaconda3\\lib\\site-packages (from markdown>=2.6.8->tensorboard<2.10,>=2.9->tensorflow) (4.8.1)\n",
      "Requirement already satisfied: zipp>=0.5 in c:\\users\\dell\\anaconda3\\lib\\site-packages (from importlib-metadata>=4.4->markdown>=2.6.8->tensorboard<2.10,>=2.9->tensorflow) (3.6.0)\n",
      "Requirement already satisfied: pyasn1<0.5.0,>=0.4.6 in c:\\users\\dell\\anaconda3\\lib\\site-packages (from pyasn1-modules>=0.2.1->google-auth<3,>=1.6.3->tensorboard<2.10,>=2.9->tensorflow) (0.4.8)\n",
      "Requirement already satisfied: certifi>=2017.4.17 in c:\\users\\dell\\anaconda3\\lib\\site-packages (from requests<3,>=2.21.0->tensorboard<2.10,>=2.9->tensorflow) (2021.10.8)\n",
      "Requirement already satisfied: urllib3<1.27,>=1.21.1 in c:\\users\\dell\\anaconda3\\lib\\site-packages (from requests<3,>=2.21.0->tensorboard<2.10,>=2.9->tensorflow) (1.26.7)\n",
      "Requirement already satisfied: idna<4,>=2.5 in c:\\users\\dell\\anaconda3\\lib\\site-packages (from requests<3,>=2.21.0->tensorboard<2.10,>=2.9->tensorflow) (3.2)\n",
      "Requirement already satisfied: charset-normalizer~=2.0.0 in c:\\users\\dell\\anaconda3\\lib\\site-packages (from requests<3,>=2.21.0->tensorboard<2.10,>=2.9->tensorflow) (2.0.4)\n",
      "Requirement already satisfied: oauthlib>=3.0.0 in c:\\users\\dell\\anaconda3\\lib\\site-packages (from requests-oauthlib>=0.7.0->google-auth-oauthlib<0.5,>=0.4.1->tensorboard<2.10,>=2.9->tensorflow) (3.2.0)\n",
      "Requirement already satisfied: pyparsing>=2.0.2 in c:\\users\\dell\\anaconda3\\lib\\site-packages (from packaging->tensorflow) (3.0.4)\n"
     ]
    }
   ],
   "source": [
    "!pip install tensorflow"
   ]
  },
  {
   "cell_type": "code",
   "execution_count": 14,
   "metadata": {},
   "outputs": [],
   "source": [
    "import tensorflow as tf"
   ]
  },
  {
   "cell_type": "code",
   "execution_count": 15,
   "metadata": {
    "execution": {
     "iopub.execute_input": "2022-04-05T05:08:06.009097Z",
     "iopub.status.busy": "2022-04-05T05:08:06.008724Z",
     "iopub.status.idle": "2022-04-05T05:08:07.033861Z",
     "shell.execute_reply": "2022-04-05T05:08:07.032977Z",
     "shell.execute_reply.started": "2022-04-05T05:08:06.009059Z"
    }
   },
   "outputs": [],
   "source": [
    "lstm = tf.keras.Sequential()\n",
    "lstm.add(tf.keras.layers.LSTM(32, input_shape=(1, trainX.shape[1]), activation='relu', return_sequences=False))\n",
    "lstm.add(tf.keras.layers.Dense(1))\n",
    "lstm.compile(loss='mean_squared_error', optimizer='adam')"
   ]
  },
  {
   "cell_type": "markdown",
   "metadata": {},
   "source": [
    "Training Prediction Model"
   ]
  },
  {
   "cell_type": "code",
   "execution_count": 16,
   "metadata": {
    "execution": {
     "iopub.execute_input": "2022-04-05T05:08:22.919242Z",
     "iopub.status.busy": "2022-04-05T05:08:22.918736Z",
     "iopub.status.idle": "2022-04-05T05:10:25.420843Z",
     "shell.execute_reply": "2022-04-05T05:10:25.419909Z",
     "shell.execute_reply.started": "2022-04-05T05:08:22.919206Z"
    }
   },
   "outputs": [
    {
     "name": "stdout",
     "output_type": "stream",
     "text": [
      "Epoch 1/100\n",
      "381/381 [==============================] - 2s 2ms/step - loss: 150982.0469\n",
      "Epoch 2/100\n",
      "381/381 [==============================] - 1s 2ms/step - loss: 147420.1719\n",
      "Epoch 3/100\n",
      "381/381 [==============================] - 1s 2ms/step - loss: 138621.5469\n",
      "Epoch 4/100\n",
      "381/381 [==============================] - 1s 2ms/step - loss: 125454.0781\n",
      "Epoch 5/100\n",
      "381/381 [==============================] - 1s 2ms/step - loss: 110163.1641\n",
      "Epoch 6/100\n",
      "381/381 [==============================] - 1s 2ms/step - loss: 94365.4375\n",
      "Epoch 7/100\n",
      "381/381 [==============================] - 1s 2ms/step - loss: 79093.4375\n",
      "Epoch 8/100\n",
      "381/381 [==============================] - 1s 2ms/step - loss: 65032.5586\n",
      "Epoch 9/100\n",
      "381/381 [==============================] - 1s 2ms/step - loss: 52625.5508\n",
      "Epoch 10/100\n",
      "381/381 [==============================] - 1s 2ms/step - loss: 42115.0586\n",
      "Epoch 11/100\n",
      "381/381 [==============================] - 1s 2ms/step - loss: 33567.2148\n",
      "Epoch 12/100\n",
      "381/381 [==============================] - 1s 2ms/step - loss: 26893.9180\n",
      "Epoch 13/100\n",
      "381/381 [==============================] - 1s 2ms/step - loss: 21881.9258\n",
      "Epoch 14/100\n",
      "381/381 [==============================] - 1s 2ms/step - loss: 18231.3730\n",
      "Epoch 15/100\n",
      "381/381 [==============================] - 1s 2ms/step - loss: 15601.2715\n",
      "Epoch 16/100\n",
      "381/381 [==============================] - 1s 2ms/step - loss: 13657.7549\n",
      "Epoch 17/100\n",
      "381/381 [==============================] - 1s 2ms/step - loss: 12114.9834\n",
      "Epoch 18/100\n",
      "381/381 [==============================] - 1s 2ms/step - loss: 10759.7666\n",
      "Epoch 19/100\n",
      "381/381 [==============================] - 1s 2ms/step - loss: 9457.8789\n",
      "Epoch 20/100\n",
      "381/381 [==============================] - 1s 2ms/step - loss: 8150.4326\n",
      "Epoch 21/100\n",
      "381/381 [==============================] - 1s 2ms/step - loss: 6841.9966\n",
      "Epoch 22/100\n",
      "381/381 [==============================] - 1s 2ms/step - loss: 5576.9756\n",
      "Epoch 23/100\n",
      "381/381 [==============================] - 1s 2ms/step - loss: 4410.9121\n",
      "Epoch 24/100\n",
      "381/381 [==============================] - 1s 2ms/step - loss: 3389.8350\n",
      "Epoch 25/100\n",
      "381/381 [==============================] - 1s 2ms/step - loss: 2541.3879\n",
      "Epoch 26/100\n",
      "381/381 [==============================] - 1s 2ms/step - loss: 1872.9172\n",
      "Epoch 27/100\n",
      "381/381 [==============================] - 1s 2ms/step - loss: 1373.1471\n",
      "Epoch 28/100\n",
      "381/381 [==============================] - 1s 2ms/step - loss: 1016.3714\n",
      "Epoch 29/100\n",
      "381/381 [==============================] - 1s 2ms/step - loss: 769.2260\n",
      "Epoch 30/100\n",
      "381/381 [==============================] - 1s 2ms/step - loss: 598.7320\n",
      "Epoch 31/100\n",
      "381/381 [==============================] - 1s 2ms/step - loss: 478.5098\n",
      "Epoch 32/100\n",
      "381/381 [==============================] - 1s 2ms/step - loss: 390.6055\n",
      "Epoch 33/100\n",
      "381/381 [==============================] - 1s 2ms/step - loss: 323.8758\n",
      "Epoch 34/100\n",
      "381/381 [==============================] - 1s 2ms/step - loss: 271.7252\n",
      "Epoch 35/100\n",
      "381/381 [==============================] - 1s 2ms/step - loss: 230.2967\n",
      "Epoch 36/100\n",
      "381/381 [==============================] - 1s 2ms/step - loss: 197.2132\n",
      "Epoch 37/100\n",
      "381/381 [==============================] - 1s 2ms/step - loss: 170.8235\n",
      "Epoch 38/100\n",
      "381/381 [==============================] - 1s 2ms/step - loss: 149.8455\n",
      "Epoch 39/100\n",
      "381/381 [==============================] - 1s 2ms/step - loss: 133.2278\n",
      "Epoch 40/100\n",
      "381/381 [==============================] - 1s 2ms/step - loss: 120.1106\n",
      "Epoch 41/100\n",
      "381/381 [==============================] - 1s 2ms/step - loss: 109.8042\n",
      "Epoch 42/100\n",
      "381/381 [==============================] - 1s 2ms/step - loss: 101.7652\n",
      "Epoch 43/100\n",
      "381/381 [==============================] - 1s 2ms/step - loss: 95.5641\n",
      "Epoch 44/100\n",
      "381/381 [==============================] - 1s 2ms/step - loss: 90.8554\n",
      "Epoch 45/100\n",
      "381/381 [==============================] - 1s 2ms/step - loss: 87.3503\n",
      "Epoch 46/100\n",
      "381/381 [==============================] - 1s 2ms/step - loss: 84.8018\n",
      "Epoch 47/100\n",
      "381/381 [==============================] - 1s 2ms/step - loss: 82.9969\n",
      "Epoch 48/100\n",
      "381/381 [==============================] - 1s 2ms/step - loss: 81.7538\n",
      "Epoch 49/100\n",
      "381/381 [==============================] - 1s 2ms/step - loss: 80.9209\n",
      "Epoch 50/100\n",
      "381/381 [==============================] - 1s 2ms/step - loss: 80.3750\n",
      "Epoch 51/100\n",
      "381/381 [==============================] - 1s 2ms/step - loss: 80.0199\n",
      "Epoch 52/100\n",
      "381/381 [==============================] - 1s 2ms/step - loss: 79.7819\n",
      "Epoch 53/100\n",
      "381/381 [==============================] - 1s 2ms/step - loss: 79.6061\n",
      "Epoch 54/100\n",
      "381/381 [==============================] - 1s 2ms/step - loss: 79.4534\n",
      "Epoch 55/100\n",
      "381/381 [==============================] - 1s 2ms/step - loss: 79.2960\n",
      "Epoch 56/100\n",
      "381/381 [==============================] - 1s 2ms/step - loss: 79.1155\n",
      "Epoch 57/100\n",
      "381/381 [==============================] - 1s 2ms/step - loss: 78.8998\n",
      "Epoch 58/100\n",
      "381/381 [==============================] - 1s 2ms/step - loss: 78.6418\n",
      "Epoch 59/100\n",
      "381/381 [==============================] - 1s 2ms/step - loss: 78.3372\n",
      "Epoch 60/100\n",
      "381/381 [==============================] - 1s 2ms/step - loss: 77.9844\n",
      "Epoch 61/100\n",
      "381/381 [==============================] - 1s 2ms/step - loss: 77.5829\n",
      "Epoch 62/100\n",
      "381/381 [==============================] - 1s 2ms/step - loss: 77.1335\n",
      "Epoch 63/100\n",
      "381/381 [==============================] - 1s 2ms/step - loss: 76.6371\n",
      "Epoch 64/100\n",
      "381/381 [==============================] - 1s 2ms/step - loss: 76.0955\n",
      "Epoch 65/100\n",
      "381/381 [==============================] - 1s 2ms/step - loss: 75.5103\n",
      "Epoch 66/100\n",
      "381/381 [==============================] - 1s 2ms/step - loss: 74.8838\n",
      "Epoch 67/100\n",
      "381/381 [==============================] - 1s 2ms/step - loss: 74.2180\n",
      "Epoch 68/100\n",
      "381/381 [==============================] - 1s 2ms/step - loss: 73.5148\n",
      "Epoch 69/100\n",
      "381/381 [==============================] - 1s 2ms/step - loss: 72.7766\n",
      "Epoch 70/100\n",
      "381/381 [==============================] - 1s 2ms/step - loss: 72.0054\n",
      "Epoch 71/100\n",
      "381/381 [==============================] - 1s 2ms/step - loss: 71.2035\n",
      "Epoch 72/100\n",
      "381/381 [==============================] - 1s 2ms/step - loss: 70.3728\n",
      "Epoch 73/100\n",
      "381/381 [==============================] - 1s 2ms/step - loss: 69.5151\n",
      "Epoch 74/100\n",
      "381/381 [==============================] - 1s 2ms/step - loss: 68.6322\n",
      "Epoch 75/100\n",
      "381/381 [==============================] - 1s 2ms/step - loss: 67.7255\n",
      "Epoch 76/100\n",
      "381/381 [==============================] - 1s 2ms/step - loss: 66.7962\n",
      "Epoch 77/100\n",
      "381/381 [==============================] - 1s 2ms/step - loss: 65.8453\n",
      "Epoch 78/100\n",
      "381/381 [==============================] - 1s 2ms/step - loss: 64.8736\n",
      "Epoch 79/100\n",
      "381/381 [==============================] - 1s 2ms/step - loss: 63.8818\n",
      "Epoch 80/100\n",
      "381/381 [==============================] - 1s 2ms/step - loss: 62.8704\n",
      "Epoch 81/100\n",
      "381/381 [==============================] - 1s 2ms/step - loss: 61.8396\n",
      "Epoch 82/100\n",
      "381/381 [==============================] - 1s 2ms/step - loss: 60.7901\n",
      "Epoch 83/100\n",
      "381/381 [==============================] - 1s 2ms/step - loss: 59.7218\n",
      "Epoch 84/100\n",
      "381/381 [==============================] - 1s 2ms/step - loss: 58.6360\n",
      "Epoch 85/100\n",
      "381/381 [==============================] - 1s 2ms/step - loss: 57.5325\n",
      "Epoch 86/100\n",
      "381/381 [==============================] - 1s 2ms/step - loss: 56.4127\n",
      "Epoch 87/100\n",
      "381/381 [==============================] - 1s 2ms/step - loss: 55.2776\n",
      "Epoch 88/100\n",
      "381/381 [==============================] - 1s 2ms/step - loss: 54.1286\n",
      "Epoch 89/100\n",
      "381/381 [==============================] - 1s 2ms/step - loss: 52.9675\n",
      "Epoch 90/100\n",
      "381/381 [==============================] - 1s 2ms/step - loss: 51.7964\n",
      "Epoch 91/100\n",
      "381/381 [==============================] - 1s 2ms/step - loss: 50.6176\n",
      "Epoch 92/100\n",
      "381/381 [==============================] - 1s 2ms/step - loss: 49.4339\n",
      "Epoch 93/100\n",
      "381/381 [==============================] - 1s 2ms/step - loss: 48.2483\n",
      "Epoch 94/100\n",
      "381/381 [==============================] - 1s 2ms/step - loss: 47.0637\n",
      "Epoch 95/100\n",
      "381/381 [==============================] - 1s 2ms/step - loss: 45.8840\n",
      "Epoch 96/100\n",
      "381/381 [==============================] - 1s 2ms/step - loss: 44.7125\n",
      "Epoch 97/100\n"
     ]
    },
    {
     "name": "stdout",
     "output_type": "stream",
     "text": [
      "381/381 [==============================] - 1s 2ms/step - loss: 43.5529\n",
      "Epoch 98/100\n",
      "381/381 [==============================] - 1s 2ms/step - loss: 42.4091\n",
      "Epoch 99/100\n",
      "381/381 [==============================] - 1s 2ms/step - loss: 41.2845\n",
      "Epoch 100/100\n",
      "381/381 [==============================] - 1s 2ms/step - loss: 40.1830\n"
     ]
    }
   ],
   "source": [
    "#Model Training\n",
    "history=lstm.fit(X_train, y_train, epochs=100, batch_size=8, verbose=1, shuffle=False)"
   ]
  },
  {
   "cell_type": "code",
   "execution_count": 17,
   "metadata": {
    "execution": {
     "iopub.execute_input": "2022-04-05T05:10:25.423217Z",
     "iopub.status.busy": "2022-04-05T05:10:25.422951Z",
     "iopub.status.idle": "2022-04-05T05:10:25.765001Z",
     "shell.execute_reply": "2022-04-05T05:10:25.763898Z",
     "shell.execute_reply.started": "2022-04-05T05:10:25.423185Z"
    }
   },
   "outputs": [
    {
     "name": "stdout",
     "output_type": "stream",
     "text": [
      "9/9 [==============================] - 0s 1ms/step\n"
     ]
    }
   ],
   "source": [
    "#Prediction\n",
    "y_pred= lstm.predict(X_test)"
   ]
  },
  {
   "cell_type": "markdown",
   "metadata": {},
   "source": [
    "Comparing Predicted vs True Adjusted Close Value – LSTM"
   ]
  },
  {
   "cell_type": "code",
   "execution_count": 18,
   "metadata": {},
   "outputs": [],
   "source": [
    "import matplotlib.pyplot as plt"
   ]
  },
  {
   "cell_type": "code",
   "execution_count": 19,
   "metadata": {},
   "outputs": [
    {
     "data": {
      "text/plain": [
       "[<matplotlib.lines.Line2D at 0x1bb29588cd0>]"
      ]
     },
     "execution_count": 19,
     "metadata": {},
     "output_type": "execute_result"
    },
    {
     "data": {
      "image/png": "[encoded data removed]",
      "text/plain": [
       "<Figure size 432x288 with 1 Axes>"
      ]
     },
     "metadata": {
      "needs_background": "light"
     },
     "output_type": "display_data"
    }
   ],
   "source": [
    "plt.plot(y_test, label='True Value')\n"
   ]
  },
  {
   "cell_type": "code",
   "execution_count": 20,
   "metadata": {},
   "outputs": [
    {
     "data": {
      "text/plain": [
       "[<matplotlib.lines.Line2D at 0x1bb295fd820>]"
      ]
     },
     "execution_count": 20,
     "metadata": {},
     "output_type": "execute_result"
    },
    {
     "data": {
      "image/png": "[encoded data removed]",
      "text/plain": [
       "<Figure size 432x288 with 1 Axes>"
      ]
     },
     "metadata": {
      "needs_background": "light"
     },
     "output_type": "display_data"
    }
   ],
   "source": [
    "plt.plot(y_pred, label='LSTM Value')"
   ]
  },
  {
   "cell_type": "code",
   "execution_count": 21,
   "metadata": {},
   "outputs": [
    {
     "data": {
      "image/png": "[encoded data removed]",
      "text/plain": [
       "<Figure size 432x288 with 1 Axes>"
      ]
     },
     "metadata": {
      "needs_background": "light"
     },
     "output_type": "display_data"
    }
   ],
   "source": [
    "plt.plot(y_test, label='True Value')\n",
    "plt.plot(y_pred, label='Predicted Value')\n",
    "plt.title('Prediction')\n",
    "plt.xlabel('Time')\n",
    "plt.ylabel('USD')\n",
    "plt.legend()\n",
    "plt.show()"
   ]
  },
  {
   "cell_type": "code",
   "execution_count": null,
   "metadata": {},
   "outputs": [],
   "source": []
  }
 ],
 "metadata": {
  "kernelspec": {
   "display_name": "Python 3 (ipykernel)",
   "language": "python",
   "name": "python3"
  },
  "language_info": {
   "codemirror_mode": {
    "name": "ipython",
    "version": 3
   },
   "file_extension": ".py",
   "mimetype": "text/x-python",
   "name": "python",
   "nbconvert_exporter": "python",
   "pygments_lexer": "ipython3",
   "version": "3.9.7"
  }
 },
 "nbformat": 4,
 "nbformat_minor": 4
}
